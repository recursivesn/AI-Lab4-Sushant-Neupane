{
  "nbformat": 4,
  "nbformat_minor": 0,
  "metadata": {
    "colab": {
      "provenance": [],
      "authorship_tag": "ABX9TyMlReKEwBcrXMsw9wOdmKbI",
      "include_colab_link": true
    },
    "kernelspec": {
      "name": "python3",
      "display_name": "Python 3"
    },
    "language_info": {
      "name": "python"
    }
  },
  "cells": [
    {
      "cell_type": "markdown",
      "metadata": {
        "id": "view-in-github",
        "colab_type": "text"
      },
      "source": [
        "<a href=\"https://colab.research.google.com/github/recursivesn/AI-Lab4-Sushant-Neupane/blob/main/ArbitaryKNN.ipynb\" target=\"_parent\"><img src=\"https://colab.research.google.com/assets/colab-badge.svg\" alt=\"Open In Colab\"/></a>"
      ]
    },
    {
      "cell_type": "code",
      "execution_count": 2,
      "metadata": {
        "colab": {
          "base_uri": "https://localhost:8080/"
        },
        "id": "-HPCs2QZgOcb",
        "outputId": "bb323147-7f8b-42f1-c75c-c12d9c5904bd"
      },
      "outputs": [
        {
          "output_type": "stream",
          "name": "stdout",
          "text": [
            "The test point [2, 1] is classified as: Class A\n"
          ]
        }
      ],
      "source": [
        "import math\n",
        "from collections import Counter\n",
        "import pandas as pd\n",
        "from io import StringIO\n",
        "\n",
        "csv_data = \"\"\"ID,Feature1,Feature2,Label\n",
        "1,6,2,Class A\n",
        "2,2,3,Class A\n",
        "3,3,1,Class B\n",
        "4,5,5,Class B\n",
        "\"\"\"\n",
        "\n",
        "df = pd.read_csv(StringIO(csv_data))\n",
        "\n",
        "features = df.columns[1:-1]\n",
        "label_col = df.columns[-1]\n",
        "\n",
        "def get_neighbors(df, query, k):\n",
        "    distances = []\n",
        "    for i, row in df.iterrows():\n",
        "        row_features = row[features]\n",
        "        dist = math.sqrt(sum((row_features[j] - query[j]) ** 2 for j in range(len(features))))\n",
        "        distances.append((dist, i))\n",
        "    distances.sort(key=lambda x: x[0])\n",
        "    return distances[:k]\n",
        "\n",
        "def get_prediction(df, neighbors):\n",
        "    labels = [df.iloc[i][label_col] for _, i in neighbors]\n",
        "    return Counter(labels).most_common(1)[0][0]\n",
        "\n",
        "query = [float(input(f\"Enter {col}: \")) for col in features]\n",
        "k = int(input(\"Enter value of k: \"))\n",
        "\n",
        "neighbors = get_neighbors(df, query, k)\n",
        "\n",
        "print(\"\\nNearest Neighbors:\")\n",
        "for dist, idx in neighbors:\n",
        "    print(f\"Index: {idx}, Distance: {dist:.2f}, Label: {df.iloc[idx][label_col]}\")\n",
        "\n",
        "prediction = get_prediction(df, neighbors)\n",
        "print(f\"\\nPredicted Class: {prediction}\")"
      ]
    }
  ]
}